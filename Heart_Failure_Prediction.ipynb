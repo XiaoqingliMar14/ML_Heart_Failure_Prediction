{
 "cells": [
  {
   "cell_type": "markdown",
   "id": "961982d6-1de0-4f37-89de-e33d222e2b02",
   "metadata": {},
   "source": [
    "# 1. Importing Libraries"
   ]
  },
  {
   "cell_type": "code",
   "execution_count": 1,
   "id": "185e3b53-6221-4eee-9c23-c318590716a6",
   "metadata": {},
   "outputs": [],
   "source": [
    "import numpy as np\n",
    "import pandas as pd\n",
    "import seaborn as sns\n",
    "import matplotlib.pyplot as plt\n",
    "from sklearn.tree import DecisionTreeClassifier\n",
    "from sklearn.ensemble import RandomForestClassifier\n",
    "from sklearn.model_selection import train_test_split\n",
    "from sklearn.metrics import accuracy_score\n",
    "from sklearn.model_selection import GridSearchCV\n",
    "from xgboost import XGBClassifier\n",
    "from sklearn.metrics import confusion_matrix\n",
    "RANDOM_STATE = 2023"
   ]
  },
  {
   "cell_type": "markdown",
   "id": "79b47b52-6283-4be4-8a01-14c78ea1fb22",
   "metadata": {},
   "source": [
    "# 2. Dataset"
   ]
  },
  {
   "cell_type": "markdown",
   "id": "19ad5f65-5ad0-4138-901a-90635fd6bab4",
   "metadata": {},
   "source": [
    "## 2.1 Data Source and Description\n",
    "Data source: [Kaggle](https://www.kaggle.com/datasets/fedesoriano/heart-failure-prediction)\n",
    "\n",
    "Context\n",
    "Cardiovascular diseases (CVDs) are the number 1 cause of death globally, taking an estimated 17.9 million lives each year, which accounts for 31% of all deaths worldwide. Heart failure is a common event caused by CVDs and this dataset contains 11 features that can be used to predict a possible heart disease.\n",
    "\n",
    "People with cardiovascular disease or who are at high cardiovascular risk need early detection and management wherein a machine learning model can be of great help.\n",
    "\n",
    "You will develop models to predict how likely a particular person is in developint cardiovascular disease, given all the information below.\n",
    "\n",
    "#### Attribute Information\n",
    "- Age: age of the patient [years]\n",
    "- Sex: sex of the patient [M: Male, F: Female]\n",
    "- ChestPainType: chest pain type [TA: Typical Angina, ATA: Atypical Angina, NAP: Non-Anginal Pain, ASY: Asymptomatic]\n",
    "- RestingBP: resting blood pressure [mm Hg]\n",
    "- Cholesterol: serum cholesterol [mm/dl]\n",
    "- FastingBS: fasting blood sugar [1: if FastingBS > 120 mg/dl, 0: otherwise]\n",
    "- RestingECG: resting electrocardiogram results [Normal: Normal, ST: having ST-T wave abnormality (T wave inversions and/or ST elevation or depression of > 0.05 mV), LVH: showing probable or definite left ventricular hypertrophy by Estes' criteria]\n",
    "- MaxHR: maximum heart rate achieved [Numeric value between 60 and 202]\n",
    "- ExerciseAngina: exercise-induced angina [Y: Yes, N: No]\n",
    "- Oldpeak: oldpeak = ST [Numeric value measured in depression]\n",
    "- ST_Slope: the slope of the peak exercise ST segment [Up: upsloping, Flat: flat, Down: downsloping]\n",
    "- HeartDisease: output class [1: heart disease, 0: Normal]"
   ]
  },
  {
   "cell_type": "markdown",
   "id": "a89c0311-703c-4c85-8df3-d81e80c8b973",
   "metadata": {},
   "source": [
    "## 2.2 Loading the Dataset"
   ]
  },
  {
   "cell_type": "code",
   "execution_count": 2,
   "id": "d20b9f26-590a-4bb7-aea1-ea5a78576e0d",
   "metadata": {},
   "outputs": [],
   "source": [
    "df = pd.read_csv(\"heart.csv\") # loading data using pandas"
   ]
  },
  {
   "cell_type": "code",
   "execution_count": 3,
   "id": "104ce7ec-b368-42f5-afd1-457448896d30",
   "metadata": {},
   "outputs": [
    {
     "name": "stdout",
     "output_type": "stream",
     "text": [
      "<class 'pandas.core.frame.DataFrame'>\n",
      "RangeIndex: 918 entries, 0 to 917\n",
      "Data columns (total 12 columns):\n",
      " #   Column          Non-Null Count  Dtype  \n",
      "---  ------          --------------  -----  \n",
      " 0   Age             918 non-null    int64  \n",
      " 1   Sex             918 non-null    object \n",
      " 2   ChestPainType   918 non-null    object \n",
      " 3   RestingBP       918 non-null    int64  \n",
      " 4   Cholesterol     918 non-null    int64  \n",
      " 5   FastingBS       918 non-null    int64  \n",
      " 6   RestingECG      918 non-null    object \n",
      " 7   MaxHR           918 non-null    int64  \n",
      " 8   ExerciseAngina  918 non-null    object \n",
      " 9   Oldpeak         918 non-null    float64\n",
      " 10  ST_Slope        918 non-null    object \n",
      " 11  HeartDisease    918 non-null    int64  \n",
      "dtypes: float64(1), int64(6), object(5)\n",
      "memory usage: 86.2+ KB\n"
     ]
    }
   ],
   "source": [
    "df.info() # viewing data information"
   ]
  },
  {
   "cell_type": "markdown",
   "id": "113c1960-61c3-45a4-a31d-1a2a94846a3a",
   "metadata": {},
   "source": [
    "This dataset is pretty clean already. There are not any missing values."
   ]
  },
  {
   "cell_type": "code",
   "execution_count": 4,
   "id": "061349be-63b7-4825-8833-e32324a2f4e8",
   "metadata": {},
   "outputs": [
    {
     "data": {
      "text/html": [
       "<div>\n",
       "<style scoped>\n",
       "    .dataframe tbody tr th:only-of-type {\n",
       "        vertical-align: middle;\n",
       "    }\n",
       "\n",
       "    .dataframe tbody tr th {\n",
       "        vertical-align: top;\n",
       "    }\n",
       "\n",
       "    .dataframe thead th {\n",
       "        text-align: right;\n",
       "    }\n",
       "</style>\n",
       "<table border=\"1\" class=\"dataframe\">\n",
       "  <thead>\n",
       "    <tr style=\"text-align: right;\">\n",
       "      <th></th>\n",
       "      <th>0</th>\n",
       "      <th>1</th>\n",
       "      <th>2</th>\n",
       "      <th>3</th>\n",
       "      <th>4</th>\n",
       "    </tr>\n",
       "  </thead>\n",
       "  <tbody>\n",
       "    <tr>\n",
       "      <th>Age</th>\n",
       "      <td>40</td>\n",
       "      <td>49</td>\n",
       "      <td>37</td>\n",
       "      <td>48</td>\n",
       "      <td>54</td>\n",
       "    </tr>\n",
       "    <tr>\n",
       "      <th>Sex</th>\n",
       "      <td>M</td>\n",
       "      <td>F</td>\n",
       "      <td>M</td>\n",
       "      <td>F</td>\n",
       "      <td>M</td>\n",
       "    </tr>\n",
       "    <tr>\n",
       "      <th>ChestPainType</th>\n",
       "      <td>ATA</td>\n",
       "      <td>NAP</td>\n",
       "      <td>ATA</td>\n",
       "      <td>ASY</td>\n",
       "      <td>NAP</td>\n",
       "    </tr>\n",
       "    <tr>\n",
       "      <th>RestingBP</th>\n",
       "      <td>140</td>\n",
       "      <td>160</td>\n",
       "      <td>130</td>\n",
       "      <td>138</td>\n",
       "      <td>150</td>\n",
       "    </tr>\n",
       "    <tr>\n",
       "      <th>Cholesterol</th>\n",
       "      <td>289</td>\n",
       "      <td>180</td>\n",
       "      <td>283</td>\n",
       "      <td>214</td>\n",
       "      <td>195</td>\n",
       "    </tr>\n",
       "    <tr>\n",
       "      <th>FastingBS</th>\n",
       "      <td>0</td>\n",
       "      <td>0</td>\n",
       "      <td>0</td>\n",
       "      <td>0</td>\n",
       "      <td>0</td>\n",
       "    </tr>\n",
       "    <tr>\n",
       "      <th>RestingECG</th>\n",
       "      <td>Normal</td>\n",
       "      <td>Normal</td>\n",
       "      <td>ST</td>\n",
       "      <td>Normal</td>\n",
       "      <td>Normal</td>\n",
       "    </tr>\n",
       "    <tr>\n",
       "      <th>MaxHR</th>\n",
       "      <td>172</td>\n",
       "      <td>156</td>\n",
       "      <td>98</td>\n",
       "      <td>108</td>\n",
       "      <td>122</td>\n",
       "    </tr>\n",
       "    <tr>\n",
       "      <th>ExerciseAngina</th>\n",
       "      <td>N</td>\n",
       "      <td>N</td>\n",
       "      <td>N</td>\n",
       "      <td>Y</td>\n",
       "      <td>N</td>\n",
       "    </tr>\n",
       "    <tr>\n",
       "      <th>Oldpeak</th>\n",
       "      <td>0.0</td>\n",
       "      <td>1.0</td>\n",
       "      <td>0.0</td>\n",
       "      <td>1.5</td>\n",
       "      <td>0.0</td>\n",
       "    </tr>\n",
       "    <tr>\n",
       "      <th>ST_Slope</th>\n",
       "      <td>Up</td>\n",
       "      <td>Flat</td>\n",
       "      <td>Up</td>\n",
       "      <td>Flat</td>\n",
       "      <td>Up</td>\n",
       "    </tr>\n",
       "    <tr>\n",
       "      <th>HeartDisease</th>\n",
       "      <td>0</td>\n",
       "      <td>1</td>\n",
       "      <td>0</td>\n",
       "      <td>1</td>\n",
       "      <td>0</td>\n",
       "    </tr>\n",
       "  </tbody>\n",
       "</table>\n",
       "</div>"
      ],
      "text/plain": [
       "                     0       1    2       3       4\n",
       "Age                 40      49   37      48      54\n",
       "Sex                  M       F    M       F       M\n",
       "ChestPainType      ATA     NAP  ATA     ASY     NAP\n",
       "RestingBP          140     160  130     138     150\n",
       "Cholesterol        289     180  283     214     195\n",
       "FastingBS            0       0    0       0       0\n",
       "RestingECG      Normal  Normal   ST  Normal  Normal\n",
       "MaxHR              172     156   98     108     122\n",
       "ExerciseAngina       N       N    N       Y       N\n",
       "Oldpeak            0.0     1.0  0.0     1.5     0.0\n",
       "ST_Slope            Up    Flat   Up    Flat      Up\n",
       "HeartDisease         0       1    0       1       0"
      ]
     },
     "execution_count": 4,
     "metadata": {},
     "output_type": "execute_result"
    }
   ],
   "source": [
    "df.head().T # Retrieve the first five rows to examine detailed data."
   ]
  },
  {
   "cell_type": "code",
   "execution_count": 5,
   "id": "7a1bb186-83b4-4394-96a7-10da4811890d",
   "metadata": {},
   "outputs": [],
   "source": [
    "def classes_num(df):\n",
    "    \"\"\"\n",
    "    input is a DataFrame, and output is dictionary recording \n",
    "    how many unique values per feature of the DataFrame has\n",
    "    \"\"\"\n",
    "    features_name = df.columns\n",
    "    classes_per_feature = {}\n",
    "    for f in features_name:\n",
    "        classes_per_feature[f] = len(df[f].unique())\n",
    "    return classes_per_feature"
   ]
  },
  {
   "cell_type": "code",
   "execution_count": 6,
   "id": "134f3b11-ad0f-40a2-b0c7-30c53822ccdb",
   "metadata": {},
   "outputs": [
    {
     "data": {
      "text/plain": [
       "{'Age': 50,\n",
       " 'Sex': 2,\n",
       " 'ChestPainType': 4,\n",
       " 'RestingBP': 67,\n",
       " 'Cholesterol': 222,\n",
       " 'FastingBS': 2,\n",
       " 'RestingECG': 3,\n",
       " 'MaxHR': 119,\n",
       " 'ExerciseAngina': 2,\n",
       " 'Oldpeak': 53,\n",
       " 'ST_Slope': 3,\n",
       " 'HeartDisease': 2}"
      ]
     },
     "execution_count": 6,
     "metadata": {},
     "output_type": "execute_result"
    }
   ],
   "source": [
    "classes_num(df)"
   ]
  },
  {
   "cell_type": "markdown",
   "id": "223ee0be-7ce8-4632-b8d0-001f8d7c6d95",
   "metadata": {},
   "source": [
    "The following six features \n",
    "- Sex\n",
    "- ChestPainType\n",
    "- FastingBS\n",
    "- RestingECG\n",
    "- ExerciseAngina\n",
    "- ST_Slope\n",
    "\n",
    "are **categorical**, and need to be one-hot encoded."
   ]
  },
  {
   "cell_type": "markdown",
   "id": "1125f922-3e4f-40b5-8b76-72fcdcae94f4",
   "metadata": {},
   "source": [
    "# 3. Data Analysis"
   ]
  },
  {
   "cell_type": "code",
   "execution_count": 7,
   "id": "6c3bd2da-4d58-4191-8281-a2cba088ca35",
   "metadata": {},
   "outputs": [],
   "source": [
    "# separate the heart disease cases and the normal cases\n",
    "disease_df = df[df['HeartDisease']==1]\n",
    "normal_df = df[df['HeartDisease']==0]"
   ]
  },
  {
   "cell_type": "code",
   "execution_count": 8,
   "id": "027f8047-9660-4ee9-acee-1820d14b7652",
   "metadata": {},
   "outputs": [
    {
     "name": "stdout",
     "output_type": "stream",
     "text": [
      "number of heart disease cases: 508\n",
      "number of normal cases: 410\n"
     ]
    }
   ],
   "source": [
    "print(f'number of heart disease cases: {disease_df.shape[0]}\\nnumber of normal cases: {normal_df.shape[0]}')"
   ]
  },
  {
   "cell_type": "markdown",
   "id": "bf263649-eb17-435a-a80b-1f3107370eb6",
   "metadata": {},
   "source": [
    "This binary classification is relatively balanced. "
   ]
  },
  {
   "cell_type": "code",
   "execution_count": 9,
   "id": "bfb2eb2e-76f1-4796-acbc-fd6b28b31907",
   "metadata": {},
   "outputs": [],
   "source": [
    "# separate the male instances and female instances\n",
    "male_index = df['Sex'] == 'M'\n",
    "female_index = df['Sex'] == 'F'\n",
    "male_df = df[male_index]\n",
    "female_df = df[female_index]"
   ]
  },
  {
   "cell_type": "code",
   "execution_count": 10,
   "id": "54c017c0-9e38-4002-8dba-cdf0f5ed0404",
   "metadata": {},
   "outputs": [
    {
     "name": "stdout",
     "output_type": "stream",
     "text": [
      "male_samples: 725\n",
      "female_samples: 193\n"
     ]
    }
   ],
   "source": [
    "print(\"male_samples:\", male_df.shape[0])\n",
    "print(\"female_samples:\", female_df.shape[0])"
   ]
  },
  {
   "cell_type": "markdown",
   "id": "57dcef1b-ac28-4632-a41e-cbdd1babfef5",
   "metadata": {},
   "source": [
    "The number of male samples is much greater than the number of female samples."
   ]
  },
  {
   "cell_type": "code",
   "execution_count": 11,
   "id": "9b94c800-09ee-4974-b9cc-7df385842467",
   "metadata": {},
   "outputs": [
    {
     "data": {
      "text/plain": [
       "<Figure size 640x480 with 0 Axes>"
      ]
     },
     "metadata": {},
     "output_type": "display_data"
    },
    {
     "data": {
      "image/png": "[encoded data removed]",
      "text/plain": [
       "<Figure size 600x400 with 2 Axes>"
      ]
     },
     "metadata": {},
     "output_type": "display_data"
    }
   ],
   "source": [
    "plt.subplots_adjust(hspace=0.5)\n",
    "plt.figure(figsize = (6,4))\n",
    "plt.subplot(1,2,1)\n",
    "plt.hist([male_df[male_df['HeartDisease'] == 0]['Age'], male_df[male_df['HeartDisease'] == 1]['Age']],\n",
    "         bins=10, alpha=0.7, label=['Normal', 'Heart Disease'], stacked=True)\n",
    "plt.legend()\n",
    "plt.xlabel('Age')\n",
    "plt.title('Male')\n",
    "\n",
    "plt.subplot(1,2,2, sharey=plt.gca())\n",
    "plt.hist([female_df[female_df['HeartDisease'] == 0]['Age'], female_df[female_df['HeartDisease'] == 1]['Age']],\n",
    "         bins=10, alpha=0.7, label=['Normal', 'Heart Disease'], stacked=True)\n",
    "plt.legend()\n",
    "plt.xlabel('Age')\n",
    "plt.title('Female')\n",
    "plt.tight_layout()\n",
    "plt.show()"
   ]
  },
  {
   "cell_type": "markdown",
   "id": "9e53f295-c68d-47f9-a885-d133f773b12b",
   "metadata": {},
   "source": [
    "This graph clearly shows that the number of male samples is significantly higher than the number of female samples . Additionally, the likelihood of having CVDs among males is higher compared to females."
   ]
  },
  {
   "cell_type": "code",
   "execution_count": 12,
   "id": "a59aac64-1035-4566-bce6-b011ff36be18",
   "metadata": {},
   "outputs": [
    {
     "data": {
      "text/plain": [
       "Text(0.5, 0, 'Chest Pain Type')"
      ]
     },
     "execution_count": 12,
     "metadata": {},
     "output_type": "execute_result"
    },
    {
     "data": {
      "image/png": "[encoded data removed]",
      "text/plain": [
       "<Figure size 400x300 with 1 Axes>"
      ]
     },
     "metadata": {},
     "output_type": "display_data"
    }
   ],
   "source": [
    "plt.figure(figsize=(4,3))\n",
    "plt.hist([normal_df['ChestPainType'], disease_df['ChestPainType']], \n",
    "         label=['Normal', 'Heart Disease'], alpha=0.7, stacked=True, color = ['green','orange'])\n",
    "plt.legend()\n",
    "plt.xlabel('Chest Pain Type')"
   ]
  },
  {
   "cell_type": "markdown",
   "id": "9655a284-f874-407c-86e2-b49db6e3293f",
   "metadata": {},
   "source": [
    "From the graph, it can be observed that the probability of having CVDs is highest in the asymptomatic group, implying that this type of heart disease is not easily detectable. This is an important reason for the high fatality rate associated with CV."
   ]
  },
  {
   "cell_type": "markdown",
   "id": "0dd905f7-9336-4cb9-9186-70e2863f9f2b",
   "metadata": {},
   "source": [
    "# 4. Data Engineering"
   ]
  },
  {
   "cell_type": "markdown",
   "id": "e2a8f089-7904-4c76-bf8a-20cfa92f9568",
   "metadata": {},
   "source": [
    "**One-hot encoding categorical variables using Pandas**\n",
    "First remove the binary variables, because one-hot encoding them would do nothing to them. \n",
    "- Sex\n",
    "- FastingBS\n",
    "- ExerciseAngina\n",
    "\n",
    "are binary variables, and\n",
    "- ChestPainType\n",
    "- RestingECG\n",
    "- ST_Slope\n",
    "\n",
    "are multi variables.\n"
   ]
  },
  {
   "cell_type": "code",
   "execution_count": 13,
   "id": "88762d9d-8f00-4df0-9560-bf63a6393db1",
   "metadata": {},
   "outputs": [],
   "source": [
    "df['Sex'] = df['Sex']=='M'\n",
    "df['ExerciseAngina'] = df['ExerciseAngina'] == 'Y'"
   ]
  },
  {
   "cell_type": "code",
   "execution_count": 14,
   "id": "323359b2-b88e-49ab-8248-ae3138b5cd96",
   "metadata": {},
   "outputs": [],
   "source": [
    "onehot_var = ['ChestPainType', 'RestingECG', 'ST_Slope']\n",
    "# This will replace the columns with the one-hot encoded ones and keep the columns outside 'columns' argument as it is.\n",
    "df = pd.get_dummies(data = df,\n",
    "                         prefix = onehot_var,\n",
    "                         columns = onehot_var)"
   ]
  },
  {
   "cell_type": "code",
   "execution_count": 15,
   "id": "e390bc25-ee1c-46e9-b49f-13c039056f6c",
   "metadata": {},
   "outputs": [
    {
     "data": {
      "text/html": [
       "<div>\n",
       "<style scoped>\n",
       "    .dataframe tbody tr th:only-of-type {\n",
       "        vertical-align: middle;\n",
       "    }\n",
       "\n",
       "    .dataframe tbody tr th {\n",
       "        vertical-align: top;\n",
       "    }\n",
       "\n",
       "    .dataframe thead th {\n",
       "        text-align: right;\n",
       "    }\n",
       "</style>\n",
       "<table border=\"1\" class=\"dataframe\">\n",
       "  <thead>\n",
       "    <tr style=\"text-align: right;\">\n",
       "      <th></th>\n",
       "      <th>0</th>\n",
       "      <th>1</th>\n",
       "      <th>2</th>\n",
       "      <th>3</th>\n",
       "      <th>4</th>\n",
       "    </tr>\n",
       "  </thead>\n",
       "  <tbody>\n",
       "    <tr>\n",
       "      <th>Age</th>\n",
       "      <td>40</td>\n",
       "      <td>49</td>\n",
       "      <td>37</td>\n",
       "      <td>48</td>\n",
       "      <td>54</td>\n",
       "    </tr>\n",
       "    <tr>\n",
       "      <th>Sex</th>\n",
       "      <td>True</td>\n",
       "      <td>False</td>\n",
       "      <td>True</td>\n",
       "      <td>False</td>\n",
       "      <td>True</td>\n",
       "    </tr>\n",
       "    <tr>\n",
       "      <th>RestingBP</th>\n",
       "      <td>140</td>\n",
       "      <td>160</td>\n",
       "      <td>130</td>\n",
       "      <td>138</td>\n",
       "      <td>150</td>\n",
       "    </tr>\n",
       "    <tr>\n",
       "      <th>Cholesterol</th>\n",
       "      <td>289</td>\n",
       "      <td>180</td>\n",
       "      <td>283</td>\n",
       "      <td>214</td>\n",
       "      <td>195</td>\n",
       "    </tr>\n",
       "    <tr>\n",
       "      <th>FastingBS</th>\n",
       "      <td>0</td>\n",
       "      <td>0</td>\n",
       "      <td>0</td>\n",
       "      <td>0</td>\n",
       "      <td>0</td>\n",
       "    </tr>\n",
       "    <tr>\n",
       "      <th>MaxHR</th>\n",
       "      <td>172</td>\n",
       "      <td>156</td>\n",
       "      <td>98</td>\n",
       "      <td>108</td>\n",
       "      <td>122</td>\n",
       "    </tr>\n",
       "    <tr>\n",
       "      <th>ExerciseAngina</th>\n",
       "      <td>False</td>\n",
       "      <td>False</td>\n",
       "      <td>False</td>\n",
       "      <td>True</td>\n",
       "      <td>False</td>\n",
       "    </tr>\n",
       "    <tr>\n",
       "      <th>Oldpeak</th>\n",
       "      <td>0.0</td>\n",
       "      <td>1.0</td>\n",
       "      <td>0.0</td>\n",
       "      <td>1.5</td>\n",
       "      <td>0.0</td>\n",
       "    </tr>\n",
       "    <tr>\n",
       "      <th>HeartDisease</th>\n",
       "      <td>0</td>\n",
       "      <td>1</td>\n",
       "      <td>0</td>\n",
       "      <td>1</td>\n",
       "      <td>0</td>\n",
       "    </tr>\n",
       "    <tr>\n",
       "      <th>ChestPainType_ASY</th>\n",
       "      <td>False</td>\n",
       "      <td>False</td>\n",
       "      <td>False</td>\n",
       "      <td>True</td>\n",
       "      <td>False</td>\n",
       "    </tr>\n",
       "    <tr>\n",
       "      <th>ChestPainType_ATA</th>\n",
       "      <td>True</td>\n",
       "      <td>False</td>\n",
       "      <td>True</td>\n",
       "      <td>False</td>\n",
       "      <td>False</td>\n",
       "    </tr>\n",
       "    <tr>\n",
       "      <th>ChestPainType_NAP</th>\n",
       "      <td>False</td>\n",
       "      <td>True</td>\n",
       "      <td>False</td>\n",
       "      <td>False</td>\n",
       "      <td>True</td>\n",
       "    </tr>\n",
       "    <tr>\n",
       "      <th>ChestPainType_TA</th>\n",
       "      <td>False</td>\n",
       "      <td>False</td>\n",
       "      <td>False</td>\n",
       "      <td>False</td>\n",
       "      <td>False</td>\n",
       "    </tr>\n",
       "    <tr>\n",
       "      <th>RestingECG_LVH</th>\n",
       "      <td>False</td>\n",
       "      <td>False</td>\n",
       "      <td>False</td>\n",
       "      <td>False</td>\n",
       "      <td>False</td>\n",
       "    </tr>\n",
       "    <tr>\n",
       "      <th>RestingECG_Normal</th>\n",
       "      <td>True</td>\n",
       "      <td>True</td>\n",
       "      <td>False</td>\n",
       "      <td>True</td>\n",
       "      <td>True</td>\n",
       "    </tr>\n",
       "    <tr>\n",
       "      <th>RestingECG_ST</th>\n",
       "      <td>False</td>\n",
       "      <td>False</td>\n",
       "      <td>True</td>\n",
       "      <td>False</td>\n",
       "      <td>False</td>\n",
       "    </tr>\n",
       "    <tr>\n",
       "      <th>ST_Slope_Down</th>\n",
       "      <td>False</td>\n",
       "      <td>False</td>\n",
       "      <td>False</td>\n",
       "      <td>False</td>\n",
       "      <td>False</td>\n",
       "    </tr>\n",
       "    <tr>\n",
       "      <th>ST_Slope_Flat</th>\n",
       "      <td>False</td>\n",
       "      <td>True</td>\n",
       "      <td>False</td>\n",
       "      <td>True</td>\n",
       "      <td>False</td>\n",
       "    </tr>\n",
       "    <tr>\n",
       "      <th>ST_Slope_Up</th>\n",
       "      <td>True</td>\n",
       "      <td>False</td>\n",
       "      <td>True</td>\n",
       "      <td>False</td>\n",
       "      <td>True</td>\n",
       "    </tr>\n",
       "  </tbody>\n",
       "</table>\n",
       "</div>"
      ],
      "text/plain": [
       "                       0      1      2      3      4\n",
       "Age                   40     49     37     48     54\n",
       "Sex                 True  False   True  False   True\n",
       "RestingBP            140    160    130    138    150\n",
       "Cholesterol          289    180    283    214    195\n",
       "FastingBS              0      0      0      0      0\n",
       "MaxHR                172    156     98    108    122\n",
       "ExerciseAngina     False  False  False   True  False\n",
       "Oldpeak              0.0    1.0    0.0    1.5    0.0\n",
       "HeartDisease           0      1      0      1      0\n",
       "ChestPainType_ASY  False  False  False   True  False\n",
       "ChestPainType_ATA   True  False   True  False  False\n",
       "ChestPainType_NAP  False   True  False  False   True\n",
       "ChestPainType_TA   False  False  False  False  False\n",
       "RestingECG_LVH     False  False  False  False  False\n",
       "RestingECG_Normal   True   True  False   True   True\n",
       "RestingECG_ST      False  False   True  False  False\n",
       "ST_Slope_Down      False  False  False  False  False\n",
       "ST_Slope_Flat      False   True  False   True  False\n",
       "ST_Slope_Up         True  False   True  False   True"
      ]
     },
     "execution_count": 15,
     "metadata": {},
     "output_type": "execute_result"
    }
   ],
   "source": [
    "df.head().T # view the data after one-hot encoding"
   ]
  },
  {
   "cell_type": "markdown",
   "id": "490e440e-dbb1-455c-899e-8716d69c2255",
   "metadata": {},
   "source": [
    "# 5. Splitting the Dataset"
   ]
  },
  {
   "cell_type": "markdown",
   "id": "c3690a2b-0477-4a5b-b502-efd828715c41",
   "metadata": {},
   "source": [
    "In this section, split the dataset into train, validation and test datasets, using the function `train_test_split` from Scikit-learn."
   ]
  },
  {
   "cell_type": "markdown",
   "id": "1fd6619f-5249-4dce-91be-6b10fd747436",
   "metadata": {},
   "source": [
    "**Seperate features and label**"
   ]
  },
  {
   "cell_type": "code",
   "execution_count": 16,
   "id": "eed93d2e-225a-4250-8479-8a4788a64f27",
   "metadata": {},
   "outputs": [],
   "source": [
    "features_list = list(df.columns)\n",
    "features_list.remove('HeartDisease')"
   ]
  },
  {
   "cell_type": "code",
   "execution_count": 17,
   "id": "74ae4751-a2fc-4d51-a706-d3d0b2f5b560",
   "metadata": {},
   "outputs": [
    {
     "data": {
      "text/plain": [
       "['Age',\n",
       " 'Sex',\n",
       " 'RestingBP',\n",
       " 'Cholesterol',\n",
       " 'FastingBS',\n",
       " 'MaxHR',\n",
       " 'ExerciseAngina',\n",
       " 'Oldpeak',\n",
       " 'ChestPainType_ASY',\n",
       " 'ChestPainType_ATA',\n",
       " 'ChestPainType_NAP',\n",
       " 'ChestPainType_TA',\n",
       " 'RestingECG_LVH',\n",
       " 'RestingECG_Normal',\n",
       " 'RestingECG_ST',\n",
       " 'ST_Slope_Down',\n",
       " 'ST_Slope_Flat',\n",
       " 'ST_Slope_Up']"
      ]
     },
     "execution_count": 17,
     "metadata": {},
     "output_type": "execute_result"
    }
   ],
   "source": [
    "features_list"
   ]
  },
  {
   "cell_type": "code",
   "execution_count": 18,
   "id": "e73b554d-378b-47d3-b210-6c63f67d6425",
   "metadata": {},
   "outputs": [],
   "source": [
    "X, X_test, y, y_test = train_test_split(df[features_list], df['HeartDisease'], train_size = 0.8, random_state = RANDOM_STATE)\n",
    "X_train, X_valid, y_train, y_valid = train_test_split(X, y, train_size = 0.8, random_state = RANDOM_STATE)"
   ]
  },
  {
   "cell_type": "code",
   "execution_count": 19,
   "id": "d3f98c34-00c8-48d5-b285-06892b4d3d50",
   "metadata": {},
   "outputs": [
    {
     "name": "stdout",
     "output_type": "stream",
     "text": [
      "train samples: 587\n",
      "validation samples: 147\n",
      "test samples: 184\n"
     ]
    }
   ],
   "source": [
    "# get the numbers of train samples, validation samples, and test samples.\n",
    "print(f'train samples: {len(X_train)}\\nvalidation samples: {len(X_valid)}\\ntest samples: {len(X_test)}')"
   ]
  },
  {
   "cell_type": "markdown",
   "id": "e00ca6b9-2bc9-46a2-86ac-fb8c53197d9a",
   "metadata": {},
   "source": [
    "# 6. Building the Models"
   ]
  },
  {
   "cell_type": "markdown",
   "id": "36656834-15b7-4453-a5aa-9d994c0cb529",
   "metadata": {},
   "source": [
    "## 6.1 Decision Tree"
   ]
  },
  {
   "cell_type": "markdown",
   "id": "020625f0-8af1-4cc6-9d44-333b8e1993b7",
   "metadata": {},
   "source": [
    "Throw the training data into a basic decision tree model to inspect the performance of the tree model. Then use grid search method to fine tune hyperparameters. "
   ]
  },
  {
   "cell_type": "code",
   "execution_count": 20,
   "id": "c12b6f25-2db3-4b01-9288-5bc7763043e1",
   "metadata": {},
   "outputs": [],
   "source": [
    "tree_trial = DecisionTreeClassifier()\n",
    "tree_trial.fit(X_train, y_train)\n",
    "train_pred = tree_trial.predict(X_train)\n",
    "valid_pred = tree_trial.predict(X_valid)"
   ]
  },
  {
   "cell_type": "code",
   "execution_count": 21,
   "id": "bf3fb3a9-2cc3-452b-8942-1bec197e0005",
   "metadata": {},
   "outputs": [
    {
     "name": "stdout",
     "output_type": "stream",
     "text": [
      "Accuracy of the train data is: 1.0.\n",
      "Accuracy of the validation data is: 0.8163265306122449.\n"
     ]
    }
   ],
   "source": [
    "acc_train_trail = accuracy_score(y_train, train_pred)\n",
    "acc_valid_trial = accuracy_score(y_valid, valid_pred)\n",
    "print(f'Accuracy of the train data is: {acc_train_trail}.\\nAccuracy of the validation data is: {acc_valid_trial}.')"
   ]
  },
  {
   "cell_type": "markdown",
   "id": "e90c9a0f-a780-4618-8538-339b5c95698d",
   "metadata": {},
   "source": [
    "The model achieved perfect results on the training set, indicating complete **overfitting**. It is necessary to control the hyperparameters of the decision tree model to mitigate overfitting issues. Here, grid search is employed to find the optimal hyperparameters for min_samples_split and max_depth."
   ]
  },
  {
   "cell_type": "code",
   "execution_count": 22,
   "id": "c97539fd-0e79-4712-88f4-a2574da70938",
   "metadata": {},
   "outputs": [
    {
     "data": {
      "text/html": [
       "<style>#sk-container-id-1 {color: black;}#sk-container-id-1 pre{padding: 0;}#sk-container-id-1 div.sk-toggleable {background-color: white;}#sk-container-id-1 label.sk-toggleable__label {cursor: pointer;display: block;width: 100%;margin-bottom: 0;padding: 0.3em;box-sizing: border-box;text-align: center;}#sk-container-id-1 label.sk-toggleable__label-arrow:before {content: \"▸\";float: left;margin-right: 0.25em;color: #696969;}#sk-container-id-1 label.sk-toggleable__label-arrow:hover:before {color: black;}#sk-container-id-1 div.sk-estimator:hover label.sk-toggleable__label-arrow:before {color: black;}#sk-container-id-1 div.sk-toggleable__content {max-height: 0;max-width: 0;overflow: hidden;text-align: left;background-color: #f0f8ff;}#sk-container-id-1 div.sk-toggleable__content pre {margin: 0.2em;color: black;border-radius: 0.25em;background-color: #f0f8ff;}#sk-container-id-1 input.sk-toggleable__control:checked~div.sk-toggleable__content {max-height: 200px;max-width: 100%;overflow: auto;}#sk-container-id-1 input.sk-toggleable__control:checked~label.sk-toggleable__label-arrow:before {content: \"▾\";}#sk-container-id-1 div.sk-estimator input.sk-toggleable__control:checked~label.sk-toggleable__label {background-color: #d4ebff;}#sk-container-id-1 div.sk-label input.sk-toggleable__control:checked~label.sk-toggleable__label {background-color: #d4ebff;}#sk-container-id-1 input.sk-hidden--visually {border: 0;clip: rect(1px 1px 1px 1px);clip: rect(1px, 1px, 1px, 1px);height: 1px;margin: -1px;overflow: hidden;padding: 0;position: absolute;width: 1px;}#sk-container-id-1 div.sk-estimator {font-family: monospace;background-color: #f0f8ff;border: 1px dotted black;border-radius: 0.25em;box-sizing: border-box;margin-bottom: 0.5em;}#sk-container-id-1 div.sk-estimator:hover {background-color: #d4ebff;}#sk-container-id-1 div.sk-parallel-item::after {content: \"\";width: 100%;border-bottom: 1px solid gray;flex-grow: 1;}#sk-container-id-1 div.sk-label:hover label.sk-toggleable__label {background-color: #d4ebff;}#sk-container-id-1 div.sk-serial::before {content: \"\";position: absolute;border-left: 1px solid gray;box-sizing: border-box;top: 0;bottom: 0;left: 50%;z-index: 0;}#sk-container-id-1 div.sk-serial {display: flex;flex-direction: column;align-items: center;background-color: white;padding-right: 0.2em;padding-left: 0.2em;position: relative;}#sk-container-id-1 div.sk-item {position: relative;z-index: 1;}#sk-container-id-1 div.sk-parallel {display: flex;align-items: stretch;justify-content: center;background-color: white;position: relative;}#sk-container-id-1 div.sk-item::before, #sk-container-id-1 div.sk-parallel-item::before {content: \"\";position: absolute;border-left: 1px solid gray;box-sizing: border-box;top: 0;bottom: 0;left: 50%;z-index: -1;}#sk-container-id-1 div.sk-parallel-item {display: flex;flex-direction: column;z-index: 1;position: relative;background-color: white;}#sk-container-id-1 div.sk-parallel-item:first-child::after {align-self: flex-end;width: 50%;}#sk-container-id-1 div.sk-parallel-item:last-child::after {align-self: flex-start;width: 50%;}#sk-container-id-1 div.sk-parallel-item:only-child::after {width: 0;}#sk-container-id-1 div.sk-dashed-wrapped {border: 1px dashed gray;margin: 0 0.4em 0.5em 0.4em;box-sizing: border-box;padding-bottom: 0.4em;background-color: white;}#sk-container-id-1 div.sk-label label {font-family: monospace;font-weight: bold;display: inline-block;line-height: 1.2em;}#sk-container-id-1 div.sk-label-container {text-align: center;}#sk-container-id-1 div.sk-container {/* jupyter's `normalize.less` sets `[hidden] { display: none; }` but bootstrap.min.css set `[hidden] { display: none !important; }` so we also need the `!important` here to be able to override the default hidden behavior on the sphinx rendered scikit-learn.org. See: https://github.com/scikit-learn/scikit-learn/issues/21755 */display: inline-block !important;position: relative;}#sk-container-id-1 div.sk-text-repr-fallback {display: none;}</style><div id=\"sk-container-id-1\" class=\"sk-top-container\"><div class=\"sk-text-repr-fallback\"><pre>GridSearchCV(cv=5, estimator=DecisionTreeClassifier(random_state=2023),\n",
       "             param_grid={&#x27;max_depth&#x27;: [3, 5, 7, 9, 11],\n",
       "                         &#x27;min_samples_split&#x27;: [10, 20, 30, 40, 50]},\n",
       "             return_train_score=True, scoring=&#x27;accuracy&#x27;)</pre><b>In a Jupyter environment, please rerun this cell to show the HTML representation or trust the notebook. <br />On GitHub, the HTML representation is unable to render, please try loading this page with nbviewer.org.</b></div><div class=\"sk-container\" hidden><div class=\"sk-item sk-dashed-wrapped\"><div class=\"sk-label-container\"><div class=\"sk-label sk-toggleable\"><input class=\"sk-toggleable__control sk-hidden--visually\" id=\"sk-estimator-id-1\" type=\"checkbox\" ><label for=\"sk-estimator-id-1\" class=\"sk-toggleable__label sk-toggleable__label-arrow\">GridSearchCV</label><div class=\"sk-toggleable__content\"><pre>GridSearchCV(cv=5, estimator=DecisionTreeClassifier(random_state=2023),\n",
       "             param_grid={&#x27;max_depth&#x27;: [3, 5, 7, 9, 11],\n",
       "                         &#x27;min_samples_split&#x27;: [10, 20, 30, 40, 50]},\n",
       "             return_train_score=True, scoring=&#x27;accuracy&#x27;)</pre></div></div></div><div class=\"sk-parallel\"><div class=\"sk-parallel-item\"><div class=\"sk-item\"><div class=\"sk-label-container\"><div class=\"sk-label sk-toggleable\"><input class=\"sk-toggleable__control sk-hidden--visually\" id=\"sk-estimator-id-2\" type=\"checkbox\" ><label for=\"sk-estimator-id-2\" class=\"sk-toggleable__label sk-toggleable__label-arrow\">estimator: DecisionTreeClassifier</label><div class=\"sk-toggleable__content\"><pre>DecisionTreeClassifier(random_state=2023)</pre></div></div></div><div class=\"sk-serial\"><div class=\"sk-item\"><div class=\"sk-estimator sk-toggleable\"><input class=\"sk-toggleable__control sk-hidden--visually\" id=\"sk-estimator-id-3\" type=\"checkbox\" ><label for=\"sk-estimator-id-3\" class=\"sk-toggleable__label sk-toggleable__label-arrow\">DecisionTreeClassifier</label><div class=\"sk-toggleable__content\"><pre>DecisionTreeClassifier(random_state=2023)</pre></div></div></div></div></div></div></div></div></div></div>"
      ],
      "text/plain": [
       "GridSearchCV(cv=5, estimator=DecisionTreeClassifier(random_state=2023),\n",
       "             param_grid={'max_depth': [3, 5, 7, 9, 11],\n",
       "                         'min_samples_split': [10, 20, 30, 40, 50]},\n",
       "             return_train_score=True, scoring='accuracy')"
      ]
     },
     "execution_count": 22,
     "metadata": {},
     "output_type": "execute_result"
    }
   ],
   "source": [
    "# fine tuning the tree model\n",
    "param_grid = {'max_depth': [3, 5, 7, 9, 11], 'min_samples_split': [10, 20, 30, 40, 50]}\n",
    "tree_gs = DecisionTreeClassifier(random_state = RANDOM_STATE)\n",
    "grid_search = GridSearchCV(tree_gs, param_grid, cv=5, scoring='accuracy', return_train_score = True)\n",
    "grid_search.fit(X, y)"
   ]
  },
  {
   "cell_type": "code",
   "execution_count": 23,
   "id": "b1afcf58-f0a8-4530-86e1-12c7660c9b99",
   "metadata": {},
   "outputs": [
    {
     "data": {
      "text/plain": [
       "{'max_depth': 3, 'min_samples_split': 10}"
      ]
     },
     "execution_count": 23,
     "metadata": {},
     "output_type": "execute_result"
    }
   ],
   "source": [
    "grid_search.best_params_"
   ]
  },
  {
   "cell_type": "code",
   "execution_count": 24,
   "id": "390b4310-eda7-40e0-ada5-43a56c9d00fc",
   "metadata": {},
   "outputs": [],
   "source": [
    "final_tree = grid_search.best_estimator_"
   ]
  },
  {
   "cell_type": "code",
   "execution_count": 25,
   "id": "fc577dfb-6ec5-45ac-a88b-7977638ba409",
   "metadata": {},
   "outputs": [
    {
     "name": "stdout",
     "output_type": "stream",
     "text": [
      "Accuracy of the train data is: 0.8596730245231607.\n",
      "Accuracy of the test data is: 0.8369565217391305.\n"
     ]
    }
   ],
   "source": [
    "final_tree.fit(X, y)\n",
    "train_final_tree_pred = final_tree.predict(X)\n",
    "test_final_tree_pred = final_tree.predict(X_test)\n",
    "acc_train_final_tree = accuracy_score(y, train_final_tree_pred)\n",
    "acc_test_final_tree = accuracy_score(y_test, test_final_tree_pred)\n",
    "print(f'Accuracy of the train data is: {acc_train_final_tree}.\\nAccuracy of the test data is: {acc_test_final_tree}.')"
   ]
  },
  {
   "cell_type": "markdown",
   "id": "51857bc7-0543-4bd0-8989-e8b21fa85e95",
   "metadata": {},
   "source": [
    "The optimal hyperparameters found by the grid search are max_depth=3 and min_samples_split=10. The complete training set was used to train the optimized decision tree model, resulting in prediction accuracies of $0.86$ for the training set and $0.84$ for the test set. The variance of the model has decreased significantly. Next, try ensemble learning methods to enhance the performance of the estimator."
   ]
  },
  {
   "cell_type": "markdown",
   "id": "0cc7d458-deb0-4db9-8940-dc60cadc66c3",
   "metadata": {},
   "source": [
    "## 6.2 Random Forest"
   ]
  },
  {
   "cell_type": "markdown",
   "id": "e0693c99-29d3-47f2-bdf7-0f892375f334",
   "metadata": {},
   "source": [
    "Adopt grid search to fine tune the hyperparameters for min_samples_split, max_depth and n_estimators in a random forest model."
   ]
  },
  {
   "cell_type": "code",
   "execution_count": 26,
   "id": "b06d998a-8efb-4e76-bcef-50647092ae3e",
   "metadata": {},
   "outputs": [
    {
     "data": {
      "text/html": [
       "<style>#sk-container-id-2 {color: black;}#sk-container-id-2 pre{padding: 0;}#sk-container-id-2 div.sk-toggleable {background-color: white;}#sk-container-id-2 label.sk-toggleable__label {cursor: pointer;display: block;width: 100%;margin-bottom: 0;padding: 0.3em;box-sizing: border-box;text-align: center;}#sk-container-id-2 label.sk-toggleable__label-arrow:before {content: \"▸\";float: left;margin-right: 0.25em;color: #696969;}#sk-container-id-2 label.sk-toggleable__label-arrow:hover:before {color: black;}#sk-container-id-2 div.sk-estimator:hover label.sk-toggleable__label-arrow:before {color: black;}#sk-container-id-2 div.sk-toggleable__content {max-height: 0;max-width: 0;overflow: hidden;text-align: left;background-color: #f0f8ff;}#sk-container-id-2 div.sk-toggleable__content pre {margin: 0.2em;color: black;border-radius: 0.25em;background-color: #f0f8ff;}#sk-container-id-2 input.sk-toggleable__control:checked~div.sk-toggleable__content {max-height: 200px;max-width: 100%;overflow: auto;}#sk-container-id-2 input.sk-toggleable__control:checked~label.sk-toggleable__label-arrow:before {content: \"▾\";}#sk-container-id-2 div.sk-estimator input.sk-toggleable__control:checked~label.sk-toggleable__label {background-color: #d4ebff;}#sk-container-id-2 div.sk-label input.sk-toggleable__control:checked~label.sk-toggleable__label {background-color: #d4ebff;}#sk-container-id-2 input.sk-hidden--visually {border: 0;clip: rect(1px 1px 1px 1px);clip: rect(1px, 1px, 1px, 1px);height: 1px;margin: -1px;overflow: hidden;padding: 0;position: absolute;width: 1px;}#sk-container-id-2 div.sk-estimator {font-family: monospace;background-color: #f0f8ff;border: 1px dotted black;border-radius: 0.25em;box-sizing: border-box;margin-bottom: 0.5em;}#sk-container-id-2 div.sk-estimator:hover {background-color: #d4ebff;}#sk-container-id-2 div.sk-parallel-item::after {content: \"\";width: 100%;border-bottom: 1px solid gray;flex-grow: 1;}#sk-container-id-2 div.sk-label:hover label.sk-toggleable__label {background-color: #d4ebff;}#sk-container-id-2 div.sk-serial::before {content: \"\";position: absolute;border-left: 1px solid gray;box-sizing: border-box;top: 0;bottom: 0;left: 50%;z-index: 0;}#sk-container-id-2 div.sk-serial {display: flex;flex-direction: column;align-items: center;background-color: white;padding-right: 0.2em;padding-left: 0.2em;position: relative;}#sk-container-id-2 div.sk-item {position: relative;z-index: 1;}#sk-container-id-2 div.sk-parallel {display: flex;align-items: stretch;justify-content: center;background-color: white;position: relative;}#sk-container-id-2 div.sk-item::before, #sk-container-id-2 div.sk-parallel-item::before {content: \"\";position: absolute;border-left: 1px solid gray;box-sizing: border-box;top: 0;bottom: 0;left: 50%;z-index: -1;}#sk-container-id-2 div.sk-parallel-item {display: flex;flex-direction: column;z-index: 1;position: relative;background-color: white;}#sk-container-id-2 div.sk-parallel-item:first-child::after {align-self: flex-end;width: 50%;}#sk-container-id-2 div.sk-parallel-item:last-child::after {align-self: flex-start;width: 50%;}#sk-container-id-2 div.sk-parallel-item:only-child::after {width: 0;}#sk-container-id-2 div.sk-dashed-wrapped {border: 1px dashed gray;margin: 0 0.4em 0.5em 0.4em;box-sizing: border-box;padding-bottom: 0.4em;background-color: white;}#sk-container-id-2 div.sk-label label {font-family: monospace;font-weight: bold;display: inline-block;line-height: 1.2em;}#sk-container-id-2 div.sk-label-container {text-align: center;}#sk-container-id-2 div.sk-container {/* jupyter's `normalize.less` sets `[hidden] { display: none; }` but bootstrap.min.css set `[hidden] { display: none !important; }` so we also need the `!important` here to be able to override the default hidden behavior on the sphinx rendered scikit-learn.org. See: https://github.com/scikit-learn/scikit-learn/issues/21755 */display: inline-block !important;position: relative;}#sk-container-id-2 div.sk-text-repr-fallback {display: none;}</style><div id=\"sk-container-id-2\" class=\"sk-top-container\"><div class=\"sk-text-repr-fallback\"><pre>GridSearchCV(cv=5, estimator=RandomForestClassifier(random_state=2023),\n",
       "             param_grid={&#x27;max_depth&#x27;: [3, 5, 7, 9, 11],\n",
       "                         &#x27;min_samples_split&#x27;: [10, 20, 30, 40, 50],\n",
       "                         &#x27;n_estimators&#x27;: [10, 50, 100, 200, 500]},\n",
       "             return_train_score=True, scoring=&#x27;accuracy&#x27;)</pre><b>In a Jupyter environment, please rerun this cell to show the HTML representation or trust the notebook. <br />On GitHub, the HTML representation is unable to render, please try loading this page with nbviewer.org.</b></div><div class=\"sk-container\" hidden><div class=\"sk-item sk-dashed-wrapped\"><div class=\"sk-label-container\"><div class=\"sk-label sk-toggleable\"><input class=\"sk-toggleable__control sk-hidden--visually\" id=\"sk-estimator-id-4\" type=\"checkbox\" ><label for=\"sk-estimator-id-4\" class=\"sk-toggleable__label sk-toggleable__label-arrow\">GridSearchCV</label><div class=\"sk-toggleable__content\"><pre>GridSearchCV(cv=5, estimator=RandomForestClassifier(random_state=2023),\n",
       "             param_grid={&#x27;max_depth&#x27;: [3, 5, 7, 9, 11],\n",
       "                         &#x27;min_samples_split&#x27;: [10, 20, 30, 40, 50],\n",
       "                         &#x27;n_estimators&#x27;: [10, 50, 100, 200, 500]},\n",
       "             return_train_score=True, scoring=&#x27;accuracy&#x27;)</pre></div></div></div><div class=\"sk-parallel\"><div class=\"sk-parallel-item\"><div class=\"sk-item\"><div class=\"sk-label-container\"><div class=\"sk-label sk-toggleable\"><input class=\"sk-toggleable__control sk-hidden--visually\" id=\"sk-estimator-id-5\" type=\"checkbox\" ><label for=\"sk-estimator-id-5\" class=\"sk-toggleable__label sk-toggleable__label-arrow\">estimator: RandomForestClassifier</label><div class=\"sk-toggleable__content\"><pre>RandomForestClassifier(random_state=2023)</pre></div></div></div><div class=\"sk-serial\"><div class=\"sk-item\"><div class=\"sk-estimator sk-toggleable\"><input class=\"sk-toggleable__control sk-hidden--visually\" id=\"sk-estimator-id-6\" type=\"checkbox\" ><label for=\"sk-estimator-id-6\" class=\"sk-toggleable__label sk-toggleable__label-arrow\">RandomForestClassifier</label><div class=\"sk-toggleable__content\"><pre>RandomForestClassifier(random_state=2023)</pre></div></div></div></div></div></div></div></div></div></div>"
      ],
      "text/plain": [
       "GridSearchCV(cv=5, estimator=RandomForestClassifier(random_state=2023),\n",
       "             param_grid={'max_depth': [3, 5, 7, 9, 11],\n",
       "                         'min_samples_split': [10, 20, 30, 40, 50],\n",
       "                         'n_estimators': [10, 50, 100, 200, 500]},\n",
       "             return_train_score=True, scoring='accuracy')"
      ]
     },
     "execution_count": 26,
     "metadata": {},
     "output_type": "execute_result"
    }
   ],
   "source": [
    "# fine tuning the random forest model\n",
    "param_grid_forest = {'max_depth': [3, 5, 7, 9, 11], 'min_samples_split': [10, 20, 30, 40, 50], 'n_estimators': [10, 50, 100, 200, 500]}\n",
    "forest_gs = RandomForestClassifier(random_state = RANDOM_STATE)\n",
    "grid_search_forest = GridSearchCV(forest_gs, param_grid_forest, cv=5, scoring='accuracy', return_train_score = True)\n",
    "grid_search_forest.fit(X, y)"
   ]
  },
  {
   "cell_type": "code",
   "execution_count": 27,
   "id": "834f231a-a9eb-4c7b-8b18-0d035c869329",
   "metadata": {},
   "outputs": [
    {
     "data": {
      "text/plain": [
       "{'max_depth': 9, 'min_samples_split': 30, 'n_estimators': 50}"
      ]
     },
     "execution_count": 27,
     "metadata": {},
     "output_type": "execute_result"
    }
   ],
   "source": [
    "grid_search_forest.best_params_"
   ]
  },
  {
   "cell_type": "code",
   "execution_count": 28,
   "id": "f0c4ec4e-8b97-4953-8d79-7222abad5f4f",
   "metadata": {},
   "outputs": [],
   "source": [
    "final_forest = grid_search_forest.best_estimator_"
   ]
  },
  {
   "cell_type": "code",
   "execution_count": 29,
   "id": "b8929a30-53f6-495c-baa4-7d77a9d990ed",
   "metadata": {},
   "outputs": [
    {
     "name": "stdout",
     "output_type": "stream",
     "text": [
      "Accuracy of the train data is: 0.8896457765667575.\n",
      "Accuracy of the test data is: 0.8967391304347826.\n"
     ]
    }
   ],
   "source": [
    "train_final_forest_pred = final_forest.predict(X)\n",
    "test_final_forest_pred = final_forest.predict(X_test)\n",
    "acc_train_final_forest = accuracy_score(y, train_final_forest_pred)\n",
    "acc_test_final_forest = accuracy_score(y_test, test_final_forest_pred)\n",
    "print(f'Accuracy of the train data is: {acc_train_final_forest}.\\nAccuracy of the test data is: {acc_test_final_forest}.')"
   ]
  },
  {
   "cell_type": "code",
   "execution_count": 30,
   "id": "060db7d8-9409-4f1f-852f-a8737d9dbaf2",
   "metadata": {},
   "outputs": [
    {
     "data": {
      "image/png": "[encoded data removed]",
      "text/plain": [
       "<Figure size 400x300 with 2 Axes>"
      ]
     },
     "metadata": {},
     "output_type": "display_data"
    }
   ],
   "source": [
    "# inspect the confusion matrix\n",
    "cm = confusion_matrix( y_test, test_final_forest_pred)\n",
    "plt.figure(figsize=(4,3))\n",
    "sns.heatmap(cm, annot=True, fmt='g', cmap='Blues', xticklabels=['normal','DVCs'], yticklabels=['normal','DVCs'])\n",
    "\n",
    "plt.xlabel('Predicted Label')\n",
    "plt.ylabel('True Label')\n",
    "plt.title('Confusion Matrix')\n",
    "\n",
    "plt.show()"
   ]
  },
  {
   "cell_type": "markdown",
   "id": "511f1884-d88c-4d2b-962b-66e9376d83b6",
   "metadata": {},
   "source": [
    "The optimal hyperparameters found by the grid search are max_depth=9, min_samples_split=30, and n_estimators=50. The complete training set was used to train the optimized random forest model, resulting in prediction accuracies of $0.88$ for the training set and $0.89$ for the test set. The performance of the estimator has been improved obviously. \n",
    "\n",
    "Inspect the relative importance of each feature for making accurate predictions."
   ]
  },
  {
   "cell_type": "code",
   "execution_count": 31,
   "id": "c4cbf7a6-9cdc-4051-a830-773424ccc38c",
   "metadata": {},
   "outputs": [
    {
     "data": {
      "text/plain": [
       "[(0.2423352417221146, 'ST_Slope_Up'),\n",
       " (0.1454963481123454, 'ST_Slope_Flat'),\n",
       " (0.11803811856560646, 'ChestPainType_ASY'),\n",
       " (0.10355804217436622, 'ExerciseAngina'),\n",
       " (0.07959797121495779, 'Oldpeak'),\n",
       " (0.06524525567445173, 'Cholesterol'),\n",
       " (0.05994688851530748, 'MaxHR'),\n",
       " (0.046662048575278586, 'Sex'),\n",
       " (0.03340069281856819, 'Age'),\n",
       " (0.025349804026919602, 'RestingBP'),\n",
       " (0.024121241846083066, 'ChestPainType_ATA'),\n",
       " (0.022905305042007353, 'FastingBS'),\n",
       " (0.01125146826767797, 'ST_Slope_Down'),\n",
       " (0.009289325451059649, 'ChestPainType_NAP'),\n",
       " (0.005019278063280228, 'ChestPainType_TA'),\n",
       " (0.0026775291782858875, 'RestingECG_ST'),\n",
       " (0.00255799597055193, 'RestingECG_LVH'),\n",
       " (0.002547444781137853, 'RestingECG_Normal')]"
      ]
     },
     "execution_count": 31,
     "metadata": {},
     "output_type": "execute_result"
    }
   ],
   "source": [
    "attributes = list(X.columns)\n",
    "feature_importances = final_forest.feature_importances_\n",
    "sorted(zip(feature_importances, attributes), reverse=True)"
   ]
  },
  {
   "cell_type": "markdown",
   "id": "a725da26-41a1-4c7d-8bab-fd68bb3de793",
   "metadata": {},
   "source": [
    "With this information, it might be better to drop the RestingECG feature since it is much less useful, and then retrain the random forest model."
   ]
  },
  {
   "cell_type": "code",
   "execution_count": 32,
   "id": "3536486b-24b4-4d23-af2d-935906421eda",
   "metadata": {},
   "outputs": [],
   "source": [
    "# drop the unimportant feature from the original dataframe\n",
    "df_reduced = df[features_list].drop(columns=['RestingECG_ST','RestingECG_LVH','RestingECG_Normal'])\n",
    "# split the data set into traning and testing again\n",
    "X_re, X_test_re, y_re, y_test_re = train_test_split(df_reduced, df['HeartDisease'], train_size = 0.8, random_state = RANDOM_STATE)"
   ]
  },
  {
   "cell_type": "code",
   "execution_count": 33,
   "id": "74cad849-7c0b-4695-9044-9f61255cbb70",
   "metadata": {},
   "outputs": [
    {
     "data": {
      "text/html": [
       "<style>#sk-container-id-3 {color: black;}#sk-container-id-3 pre{padding: 0;}#sk-container-id-3 div.sk-toggleable {background-color: white;}#sk-container-id-3 label.sk-toggleable__label {cursor: pointer;display: block;width: 100%;margin-bottom: 0;padding: 0.3em;box-sizing: border-box;text-align: center;}#sk-container-id-3 label.sk-toggleable__label-arrow:before {content: \"▸\";float: left;margin-right: 0.25em;color: #696969;}#sk-container-id-3 label.sk-toggleable__label-arrow:hover:before {color: black;}#sk-container-id-3 div.sk-estimator:hover label.sk-toggleable__label-arrow:before {color: black;}#sk-container-id-3 div.sk-toggleable__content {max-height: 0;max-width: 0;overflow: hidden;text-align: left;background-color: #f0f8ff;}#sk-container-id-3 div.sk-toggleable__content pre {margin: 0.2em;color: black;border-radius: 0.25em;background-color: #f0f8ff;}#sk-container-id-3 input.sk-toggleable__control:checked~div.sk-toggleable__content {max-height: 200px;max-width: 100%;overflow: auto;}#sk-container-id-3 input.sk-toggleable__control:checked~label.sk-toggleable__label-arrow:before {content: \"▾\";}#sk-container-id-3 div.sk-estimator input.sk-toggleable__control:checked~label.sk-toggleable__label {background-color: #d4ebff;}#sk-container-id-3 div.sk-label input.sk-toggleable__control:checked~label.sk-toggleable__label {background-color: #d4ebff;}#sk-container-id-3 input.sk-hidden--visually {border: 0;clip: rect(1px 1px 1px 1px);clip: rect(1px, 1px, 1px, 1px);height: 1px;margin: -1px;overflow: hidden;padding: 0;position: absolute;width: 1px;}#sk-container-id-3 div.sk-estimator {font-family: monospace;background-color: #f0f8ff;border: 1px dotted black;border-radius: 0.25em;box-sizing: border-box;margin-bottom: 0.5em;}#sk-container-id-3 div.sk-estimator:hover {background-color: #d4ebff;}#sk-container-id-3 div.sk-parallel-item::after {content: \"\";width: 100%;border-bottom: 1px solid gray;flex-grow: 1;}#sk-container-id-3 div.sk-label:hover label.sk-toggleable__label {background-color: #d4ebff;}#sk-container-id-3 div.sk-serial::before {content: \"\";position: absolute;border-left: 1px solid gray;box-sizing: border-box;top: 0;bottom: 0;left: 50%;z-index: 0;}#sk-container-id-3 div.sk-serial {display: flex;flex-direction: column;align-items: center;background-color: white;padding-right: 0.2em;padding-left: 0.2em;position: relative;}#sk-container-id-3 div.sk-item {position: relative;z-index: 1;}#sk-container-id-3 div.sk-parallel {display: flex;align-items: stretch;justify-content: center;background-color: white;position: relative;}#sk-container-id-3 div.sk-item::before, #sk-container-id-3 div.sk-parallel-item::before {content: \"\";position: absolute;border-left: 1px solid gray;box-sizing: border-box;top: 0;bottom: 0;left: 50%;z-index: -1;}#sk-container-id-3 div.sk-parallel-item {display: flex;flex-direction: column;z-index: 1;position: relative;background-color: white;}#sk-container-id-3 div.sk-parallel-item:first-child::after {align-self: flex-end;width: 50%;}#sk-container-id-3 div.sk-parallel-item:last-child::after {align-self: flex-start;width: 50%;}#sk-container-id-3 div.sk-parallel-item:only-child::after {width: 0;}#sk-container-id-3 div.sk-dashed-wrapped {border: 1px dashed gray;margin: 0 0.4em 0.5em 0.4em;box-sizing: border-box;padding-bottom: 0.4em;background-color: white;}#sk-container-id-3 div.sk-label label {font-family: monospace;font-weight: bold;display: inline-block;line-height: 1.2em;}#sk-container-id-3 div.sk-label-container {text-align: center;}#sk-container-id-3 div.sk-container {/* jupyter's `normalize.less` sets `[hidden] { display: none; }` but bootstrap.min.css set `[hidden] { display: none !important; }` so we also need the `!important` here to be able to override the default hidden behavior on the sphinx rendered scikit-learn.org. See: https://github.com/scikit-learn/scikit-learn/issues/21755 */display: inline-block !important;position: relative;}#sk-container-id-3 div.sk-text-repr-fallback {display: none;}</style><div id=\"sk-container-id-3\" class=\"sk-top-container\"><div class=\"sk-text-repr-fallback\"><pre>GridSearchCV(cv=5, estimator=RandomForestClassifier(random_state=2023),\n",
       "             param_grid={&#x27;max_depth&#x27;: [3, 5, 7, 9, 11],\n",
       "                         &#x27;min_samples_split&#x27;: [10, 20, 30, 40, 50],\n",
       "                         &#x27;n_estimators&#x27;: [10, 50, 100, 200, 500]},\n",
       "             return_train_score=True, scoring=&#x27;accuracy&#x27;)</pre><b>In a Jupyter environment, please rerun this cell to show the HTML representation or trust the notebook. <br />On GitHub, the HTML representation is unable to render, please try loading this page with nbviewer.org.</b></div><div class=\"sk-container\" hidden><div class=\"sk-item sk-dashed-wrapped\"><div class=\"sk-label-container\"><div class=\"sk-label sk-toggleable\"><input class=\"sk-toggleable__control sk-hidden--visually\" id=\"sk-estimator-id-7\" type=\"checkbox\" ><label for=\"sk-estimator-id-7\" class=\"sk-toggleable__label sk-toggleable__label-arrow\">GridSearchCV</label><div class=\"sk-toggleable__content\"><pre>GridSearchCV(cv=5, estimator=RandomForestClassifier(random_state=2023),\n",
       "             param_grid={&#x27;max_depth&#x27;: [3, 5, 7, 9, 11],\n",
       "                         &#x27;min_samples_split&#x27;: [10, 20, 30, 40, 50],\n",
       "                         &#x27;n_estimators&#x27;: [10, 50, 100, 200, 500]},\n",
       "             return_train_score=True, scoring=&#x27;accuracy&#x27;)</pre></div></div></div><div class=\"sk-parallel\"><div class=\"sk-parallel-item\"><div class=\"sk-item\"><div class=\"sk-label-container\"><div class=\"sk-label sk-toggleable\"><input class=\"sk-toggleable__control sk-hidden--visually\" id=\"sk-estimator-id-8\" type=\"checkbox\" ><label for=\"sk-estimator-id-8\" class=\"sk-toggleable__label sk-toggleable__label-arrow\">estimator: RandomForestClassifier</label><div class=\"sk-toggleable__content\"><pre>RandomForestClassifier(random_state=2023)</pre></div></div></div><div class=\"sk-serial\"><div class=\"sk-item\"><div class=\"sk-estimator sk-toggleable\"><input class=\"sk-toggleable__control sk-hidden--visually\" id=\"sk-estimator-id-9\" type=\"checkbox\" ><label for=\"sk-estimator-id-9\" class=\"sk-toggleable__label sk-toggleable__label-arrow\">RandomForestClassifier</label><div class=\"sk-toggleable__content\"><pre>RandomForestClassifier(random_state=2023)</pre></div></div></div></div></div></div></div></div></div></div>"
      ],
      "text/plain": [
       "GridSearchCV(cv=5, estimator=RandomForestClassifier(random_state=2023),\n",
       "             param_grid={'max_depth': [3, 5, 7, 9, 11],\n",
       "                         'min_samples_split': [10, 20, 30, 40, 50],\n",
       "                         'n_estimators': [10, 50, 100, 200, 500]},\n",
       "             return_train_score=True, scoring='accuracy')"
      ]
     },
     "execution_count": 33,
     "metadata": {},
     "output_type": "execute_result"
    }
   ],
   "source": [
    "# retrain the random forest model after dropping the less important features\n",
    "param_grid_forest = {'max_depth': [3, 5, 7, 9, 11], 'min_samples_split': [10, 20, 30, 40, 50], 'n_estimators': [10, 50, 100, 200, 500]}\n",
    "forest_gs = RandomForestClassifier(random_state = RANDOM_STATE)\n",
    "grid_search_forest = GridSearchCV(forest_gs, param_grid_forest, cv=5, scoring='accuracy', return_train_score = True)\n",
    "grid_search_forest.fit(X_re, y_re)"
   ]
  },
  {
   "cell_type": "code",
   "execution_count": 34,
   "id": "668a1a1b-5628-4bf1-9f40-606d3f2f5786",
   "metadata": {},
   "outputs": [
    {
     "data": {
      "text/plain": [
       "{'max_depth': 11, 'min_samples_split': 10, 'n_estimators': 100}"
      ]
     },
     "execution_count": 34,
     "metadata": {},
     "output_type": "execute_result"
    }
   ],
   "source": [
    "grid_search_forest.best_params_"
   ]
  },
  {
   "cell_type": "code",
   "execution_count": 35,
   "id": "3c33ca13-b024-47c7-ae39-4482b845e9ab",
   "metadata": {},
   "outputs": [],
   "source": [
    "optimal_forest = grid_search_forest.best_estimator_"
   ]
  },
  {
   "cell_type": "code",
   "execution_count": 36,
   "id": "5dc6cc81-1b2d-411a-9ebc-bb8acd0a531e",
   "metadata": {},
   "outputs": [
    {
     "name": "stdout",
     "output_type": "stream",
     "text": [
      "Accuracy of the train data is: 0.9386920980926431.\n",
      "Accuracy of the test data is: 0.9021739130434783.\n"
     ]
    }
   ],
   "source": [
    "train_forest_pred = optimal_forest.predict(X_re)\n",
    "test_forest_pred = optimal_forest.predict(X_test_re)\n",
    "acc_train_forest = accuracy_score(y_re, train_forest_pred)\n",
    "acc_test_forest = accuracy_score(y_test_re, test_forest_pred)\n",
    "print(f'Accuracy of the train data is: {acc_train_forest}.\\nAccuracy of the test data is: {acc_test_forest}.')"
   ]
  },
  {
   "cell_type": "code",
   "execution_count": 41,
   "id": "8dec24fe-f1cd-4345-9a6a-e9c6b3e9285e",
   "metadata": {},
   "outputs": [
    {
     "data": {
      "image/png": "[encoded data removed]",
      "text/plain": [
       "<Figure size 400x300 with 2 Axes>"
      ]
     },
     "metadata": {},
     "output_type": "display_data"
    }
   ],
   "source": [
    "# inspect the confusion matrix\n",
    "cm_new = confusion_matrix( y_test_re, test_forest_pred)\n",
    "plt.figure(figsize=(4,3))\n",
    "sns.heatmap(cm_new, annot=True, fmt='g', cmap='Blues', xticklabels=['normal','DVCs'], yticklabels=['normal','DVCs'])\n",
    "plt.xlabel('Predicted Label')\n",
    "plt.ylabel('True Label')\n",
    "plt.title('Confusion Matrix')\n",
    "plt.show()"
   ]
  },
  {
   "cell_type": "markdown",
   "id": "c641a4bf-c915-42d0-9d39-2773b346ed32",
   "metadata": {},
   "source": [
    "After removing features with low correlation, the model's predictive accuracy has slightly improved."
   ]
  },
  {
   "cell_type": "markdown",
   "id": "ab7460d4-fc9f-4551-b6b3-7baf8eee29e5",
   "metadata": {},
   "source": [
    "## 6.3 XGBoost"
   ]
  },
  {
   "cell_type": "code",
   "execution_count": 37,
   "id": "7a95c909-5a0c-41d3-a0ac-a1ca78c912a1",
   "metadata": {},
   "outputs": [
    {
     "name": "stdout",
     "output_type": "stream",
     "text": [
      "[0]\tvalidation_0-logloss:0.54607\n",
      "[1]\tvalidation_0-logloss:0.47063\n",
      "[2]\tvalidation_0-logloss:0.43320\n",
      "[3]\tvalidation_0-logloss:0.40685\n",
      "[4]\tvalidation_0-logloss:0.38774\n",
      "[5]\tvalidation_0-logloss:0.37271\n",
      "[6]\tvalidation_0-logloss:0.36697\n",
      "[7]\tvalidation_0-logloss:0.36421\n",
      "[8]\tvalidation_0-logloss:0.35255\n",
      "[9]\tvalidation_0-logloss:0.34882\n",
      "[10]\tvalidation_0-logloss:0.35390\n",
      "[11]\tvalidation_0-logloss:0.36164\n",
      "[12]\tvalidation_0-logloss:0.36540\n",
      "[13]\tvalidation_0-logloss:0.36631\n",
      "[14]\tvalidation_0-logloss:0.36940\n",
      "[15]\tvalidation_0-logloss:0.37224\n",
      "[16]\tvalidation_0-logloss:0.37249\n",
      "[17]\tvalidation_0-logloss:0.37290\n",
      "[18]\tvalidation_0-logloss:0.37877\n",
      "[19]\tvalidation_0-logloss:0.38036\n"
     ]
    },
    {
     "data": {
      "text/html": [
       "<style>#sk-container-id-4 {color: black;}#sk-container-id-4 pre{padding: 0;}#sk-container-id-4 div.sk-toggleable {background-color: white;}#sk-container-id-4 label.sk-toggleable__label {cursor: pointer;display: block;width: 100%;margin-bottom: 0;padding: 0.3em;box-sizing: border-box;text-align: center;}#sk-container-id-4 label.sk-toggleable__label-arrow:before {content: \"▸\";float: left;margin-right: 0.25em;color: #696969;}#sk-container-id-4 label.sk-toggleable__label-arrow:hover:before {color: black;}#sk-container-id-4 div.sk-estimator:hover label.sk-toggleable__label-arrow:before {color: black;}#sk-container-id-4 div.sk-toggleable__content {max-height: 0;max-width: 0;overflow: hidden;text-align: left;background-color: #f0f8ff;}#sk-container-id-4 div.sk-toggleable__content pre {margin: 0.2em;color: black;border-radius: 0.25em;background-color: #f0f8ff;}#sk-container-id-4 input.sk-toggleable__control:checked~div.sk-toggleable__content {max-height: 200px;max-width: 100%;overflow: auto;}#sk-container-id-4 input.sk-toggleable__control:checked~label.sk-toggleable__label-arrow:before {content: \"▾\";}#sk-container-id-4 div.sk-estimator input.sk-toggleable__control:checked~label.sk-toggleable__label {background-color: #d4ebff;}#sk-container-id-4 div.sk-label input.sk-toggleable__control:checked~label.sk-toggleable__label {background-color: #d4ebff;}#sk-container-id-4 input.sk-hidden--visually {border: 0;clip: rect(1px 1px 1px 1px);clip: rect(1px, 1px, 1px, 1px);height: 1px;margin: -1px;overflow: hidden;padding: 0;position: absolute;width: 1px;}#sk-container-id-4 div.sk-estimator {font-family: monospace;background-color: #f0f8ff;border: 1px dotted black;border-radius: 0.25em;box-sizing: border-box;margin-bottom: 0.5em;}#sk-container-id-4 div.sk-estimator:hover {background-color: #d4ebff;}#sk-container-id-4 div.sk-parallel-item::after {content: \"\";width: 100%;border-bottom: 1px solid gray;flex-grow: 1;}#sk-container-id-4 div.sk-label:hover label.sk-toggleable__label {background-color: #d4ebff;}#sk-container-id-4 div.sk-serial::before {content: \"\";position: absolute;border-left: 1px solid gray;box-sizing: border-box;top: 0;bottom: 0;left: 50%;z-index: 0;}#sk-container-id-4 div.sk-serial {display: flex;flex-direction: column;align-items: center;background-color: white;padding-right: 0.2em;padding-left: 0.2em;position: relative;}#sk-container-id-4 div.sk-item {position: relative;z-index: 1;}#sk-container-id-4 div.sk-parallel {display: flex;align-items: stretch;justify-content: center;background-color: white;position: relative;}#sk-container-id-4 div.sk-item::before, #sk-container-id-4 div.sk-parallel-item::before {content: \"\";position: absolute;border-left: 1px solid gray;box-sizing: border-box;top: 0;bottom: 0;left: 50%;z-index: -1;}#sk-container-id-4 div.sk-parallel-item {display: flex;flex-direction: column;z-index: 1;position: relative;background-color: white;}#sk-container-id-4 div.sk-parallel-item:first-child::after {align-self: flex-end;width: 50%;}#sk-container-id-4 div.sk-parallel-item:last-child::after {align-self: flex-start;width: 50%;}#sk-container-id-4 div.sk-parallel-item:only-child::after {width: 0;}#sk-container-id-4 div.sk-dashed-wrapped {border: 1px dashed gray;margin: 0 0.4em 0.5em 0.4em;box-sizing: border-box;padding-bottom: 0.4em;background-color: white;}#sk-container-id-4 div.sk-label label {font-family: monospace;font-weight: bold;display: inline-block;line-height: 1.2em;}#sk-container-id-4 div.sk-label-container {text-align: center;}#sk-container-id-4 div.sk-container {/* jupyter's `normalize.less` sets `[hidden] { display: none; }` but bootstrap.min.css set `[hidden] { display: none !important; }` so we also need the `!important` here to be able to override the default hidden behavior on the sphinx rendered scikit-learn.org. See: https://github.com/scikit-learn/scikit-learn/issues/21755 */display: inline-block !important;position: relative;}#sk-container-id-4 div.sk-text-repr-fallback {display: none;}</style><div id=\"sk-container-id-4\" class=\"sk-top-container\"><div class=\"sk-text-repr-fallback\"><pre>XGBClassifier(base_score=None, booster=None, callbacks=None,\n",
       "              colsample_bylevel=None, colsample_bynode=None,\n",
       "              colsample_bytree=None, device=None, early_stopping_rounds=10,\n",
       "              enable_categorical=False, eval_metric=None, feature_types=None,\n",
       "              gamma=None, grow_policy=None, importance_type=None,\n",
       "              interaction_constraints=None, learning_rate=None, max_bin=None,\n",
       "              max_cat_threshold=None, max_cat_to_onehot=None,\n",
       "              max_delta_step=None, max_depth=None, max_leaves=None,\n",
       "              min_child_weight=None, missing=nan, monotone_constraints=None,\n",
       "              multi_strategy=None, n_estimators=100, n_jobs=None,\n",
       "              num_parallel_tree=None, random_state=2023, ...)</pre><b>In a Jupyter environment, please rerun this cell to show the HTML representation or trust the notebook. <br />On GitHub, the HTML representation is unable to render, please try loading this page with nbviewer.org.</b></div><div class=\"sk-container\" hidden><div class=\"sk-item\"><div class=\"sk-estimator sk-toggleable\"><input class=\"sk-toggleable__control sk-hidden--visually\" id=\"sk-estimator-id-10\" type=\"checkbox\" checked><label for=\"sk-estimator-id-10\" class=\"sk-toggleable__label sk-toggleable__label-arrow\">XGBClassifier</label><div class=\"sk-toggleable__content\"><pre>XGBClassifier(base_score=None, booster=None, callbacks=None,\n",
       "              colsample_bylevel=None, colsample_bynode=None,\n",
       "              colsample_bytree=None, device=None, early_stopping_rounds=10,\n",
       "              enable_categorical=False, eval_metric=None, feature_types=None,\n",
       "              gamma=None, grow_policy=None, importance_type=None,\n",
       "              interaction_constraints=None, learning_rate=None, max_bin=None,\n",
       "              max_cat_threshold=None, max_cat_to_onehot=None,\n",
       "              max_delta_step=None, max_depth=None, max_leaves=None,\n",
       "              min_child_weight=None, missing=nan, monotone_constraints=None,\n",
       "              multi_strategy=None, n_estimators=100, n_jobs=None,\n",
       "              num_parallel_tree=None, random_state=2023, ...)</pre></div></div></div></div></div>"
      ],
      "text/plain": [
       "XGBClassifier(base_score=None, booster=None, callbacks=None,\n",
       "              colsample_bylevel=None, colsample_bynode=None,\n",
       "              colsample_bytree=None, device=None, early_stopping_rounds=10,\n",
       "              enable_categorical=False, eval_metric=None, feature_types=None,\n",
       "              gamma=None, grow_policy=None, importance_type=None,\n",
       "              interaction_constraints=None, learning_rate=None, max_bin=None,\n",
       "              max_cat_threshold=None, max_cat_to_onehot=None,\n",
       "              max_delta_step=None, max_depth=None, max_leaves=None,\n",
       "              min_child_weight=None, missing=nan, monotone_constraints=None,\n",
       "              multi_strategy=None, n_estimators=100, n_jobs=None,\n",
       "              num_parallel_tree=None, random_state=2023, ...)"
      ]
     },
     "execution_count": 37,
     "metadata": {},
     "output_type": "execute_result"
    }
   ],
   "source": [
    "# try another ensembel algorithm belonging to boosting named XGBoost\n",
    "# \n",
    "X_train_re, X_valid_re, y_train_re, y_valid_re = train_test_split(X_re, y_re, train_size = 0.8, random_state = RANDOM_STATE)\n",
    "xgboost = XGBClassifier(n_estimators = 100, verbosity = 1, early_stopping_rounds = 10, random_state = RANDOM_STATE)\n",
    "xgboost.fit(X_train_re,y_train_re, eval_set = [(X_valid_re,y_valid_re)])"
   ]
  },
  {
   "cell_type": "code",
   "execution_count": 38,
   "id": "538bb1b3-7459-4b81-9ce2-2adce10223c9",
   "metadata": {},
   "outputs": [
    {
     "data": {
      "text/plain": [
       "9"
      ]
     },
     "execution_count": 38,
     "metadata": {},
     "output_type": "execute_result"
    }
   ],
   "source": [
    "xgboost.best_iteration"
   ]
  },
  {
   "cell_type": "code",
   "execution_count": 39,
   "id": "a7714454-54b8-4aa2-a400-99b958d0e6d3",
   "metadata": {},
   "outputs": [
    {
     "name": "stdout",
     "output_type": "stream",
     "text": [
      "Accuracy of the train data is: 0.9373297002724795.\n",
      "Accuracy of the test data is: 0.8152173913043478.\n"
     ]
    }
   ],
   "source": [
    "train_xgboost_pred = xgboost.predict(X_re)\n",
    "test_xgboost_pred = xgboost.predict(X_test_re)\n",
    "acc_train_xgboost = accuracy_score(y, train_xgboost_pred)\n",
    "acc_test_xgboost = accuracy_score(y_test, test_xgboost_pred)\n",
    "print(f'Accuracy of the train data is: {acc_train_xgboost}.\\nAccuracy of the test data is: {acc_test_xgboost}.')"
   ]
  },
  {
   "cell_type": "markdown",
   "id": "8659b5f6-1b87-4d30-80ad-e601537bdec3",
   "metadata": {},
   "source": [
    "The XGBoost model performs less effectively than the Random Forest model, but trains much faster than the Random Forest model."
   ]
  },
  {
   "cell_type": "markdown",
   "id": "c25fbef5-7b3a-4d8d-8839-6fcb99056f50",
   "metadata": {},
   "source": [
    "# 7. Conclusion"
   ]
  },
  {
   "cell_type": "markdown",
   "id": "d71e8388-6ea0-42c3-b5d4-d6ae9a8b1507",
   "metadata": {},
   "source": [
    "In this work, I employed three different tree models. The first one is a standalone decision tree model, and the other two are ensemble models based on decision trees—specifically, a random forest model belonging to bagging algorithm and an XGBoost model belonging to boosting algorithm. Among the three models, the random forest exhibited the best predictive performance, achieving an accuracy of over 90% on the test set."
   ]
  },
  {
   "cell_type": "code",
   "execution_count": null,
   "id": "4646cc6f-5ae0-4fc7-92bf-44593d5ddbbb",
   "metadata": {},
   "outputs": [],
   "source": []
  }
 ],
 "metadata": {
  "kernelspec": {
   "display_name": "Python 3 (ipykernel)",
   "language": "python",
   "name": "python3"
  },
  "language_info": {
   "codemirror_mode": {
    "name": "ipython",
    "version": 3
   },
   "file_extension": ".py",
   "mimetype": "text/x-python",
   "name": "python",
   "nbconvert_exporter": "python",
   "pygments_lexer": "ipython3",
   "version": "3.12.1"
  }
 },
 "nbformat": 4,
 "nbformat_minor": 5
}
